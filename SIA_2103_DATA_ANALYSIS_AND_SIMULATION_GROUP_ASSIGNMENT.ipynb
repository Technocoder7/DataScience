{
  "nbformat": 4,
  "nbformat_minor": 0,
  "metadata": {
    "colab": {
      "provenance": [],
      "authorship_tag": "ABX9TyNrQ0mt3TOTZTBdAXeBM5vE",
      "include_colab_link": true
    },
    "kernelspec": {
      "name": "python3",
      "display_name": "Python 3"
    },
    "language_info": {
      "name": "python"
    }
  },
  "cells": [
    {
      "cell_type": "markdown",
      "metadata": {
        "id": "view-in-github",
        "colab_type": "text"
      },
      "source": [
        "<a href=\"https://colab.research.google.com/github/Technocoder7/DataScience/blob/main/SIA_2103_DATA_ANALYSIS_AND_SIMULATION_GROUP_ASSIGNMENT.ipynb\" target=\"_parent\"><img src=\"https://colab.research.google.com/assets/colab-badge.svg\" alt=\"Open In Colab\"/></a>"
      ]
    },
    {
      "cell_type": "markdown",
      "source": [
        "#       **SIA 2013 DATA ANALYSIS AND SIMULATION GROUP ASSIGNMENT 2**\n",
        "\n",
        "---\n",
        "\n",
        "\n"
      ],
      "metadata": {
        "id": "SpPVT0kOnWAX"
      }
    },
    {
      "cell_type": "markdown",
      "source": [
        "GROUP MEMBERS:\n",
        "1. HADEBE SANELE            N02132677F\n",
        "2. KHUMALO THANDEKA         N02132964E\n",
        "3. PANDENI THANDEKA         N02126010N\n",
        "4. MAKUMBE BOAZ             N02126854B\n",
        "5. DUBE PRESUMPTION S       N02131379B\n",
        "6. SIBANDA WILSON           N02132460D\n",
        "7. MARAMBA ALLAN            N02124201T\n",
        "8. ZENDA SAMANTHA G         N02126371F\n",
        "9. NYOKA ISHEANOPA          N021"
      ],
      "metadata": {
        "id": "n6-RxiP-oTTR"
      }
    },
    {
      "cell_type": "markdown",
      "source": [
        "#### Question 2: For this exercise, you can find the data in datasets/algebradata.csv. Frank Mulligrew is the algebra coordinator for Washington, DC public schools. He is required by the school board to gather some statistics. Using the information about his class, calculate the following:\n",
        "1. Percentage of students with a passing grade\n",
        "2. Percentage of women with a passing grade\n",
        "3. Average hours of study for all students\n",
        "4. Average hours of study for students with a passing grade"
      ],
      "metadata": {
        "id": "w18OUzNJry59"
      }
    },
    {
      "cell_type": "code",
      "source": [
        "#import the required molules or libraries\n",
        "import pandas as pd\n",
        "import numpy as np\n",
        "import matplotlib.pyplot as plt\n",
        "import seaborn as sns\n",
        "%matplotlib inline \n"
      ],
      "metadata": {
        "id": "QfrIDKeRrwnA"
      },
      "execution_count": 24,
      "outputs": []
    },
    {
      "cell_type": "code",
      "source": [
        "#Loading the dataset\n",
        "url = 'https://raw.githubusercontent.com/Apress/learn-data-analysis-w-python/master/datasets/algebradata.csv'\n",
        "data = pd.read_csv(url)\n",
        "\n",
        "#Check if the data loaded successfully\n",
        "data.head()"
      ],
      "metadata": {
        "colab": {
          "base_uri": "https://localhost:8080/",
          "height": 206
        },
        "id": "HFNfO9ZhtFcY",
        "outputId": "2dc66c22-75fb-4b6a-f2fd-afe544469d6a"
      },
      "execution_count": 2,
      "outputs": [
        {
          "output_type": "execute_result",
          "data": {
            "text/plain": [
              "     Fname     Lname Gender Grade  Hours of Study\n",
              "0     Mary  Ettienne      F     B              16\n",
              "1  Charles    Looner      M     F               8\n",
              "2    Betty  Franklin      F     A              24\n",
              "3    Roger   Withers      M     C               5\n",
              "4     John   Mulgrew      M     A               5"
            ],
            "text/html": [
              "\n",
              "  <div id=\"df-e91fcdae-aac3-4aca-986c-7541c5b4e14a\">\n",
              "    <div class=\"colab-df-container\">\n",
              "      <div>\n",
              "<style scoped>\n",
              "    .dataframe tbody tr th:only-of-type {\n",
              "        vertical-align: middle;\n",
              "    }\n",
              "\n",
              "    .dataframe tbody tr th {\n",
              "        vertical-align: top;\n",
              "    }\n",
              "\n",
              "    .dataframe thead th {\n",
              "        text-align: right;\n",
              "    }\n",
              "</style>\n",
              "<table border=\"1\" class=\"dataframe\">\n",
              "  <thead>\n",
              "    <tr style=\"text-align: right;\">\n",
              "      <th></th>\n",
              "      <th>Fname</th>\n",
              "      <th>Lname</th>\n",
              "      <th>Gender</th>\n",
              "      <th>Grade</th>\n",
              "      <th>Hours of Study</th>\n",
              "    </tr>\n",
              "  </thead>\n",
              "  <tbody>\n",
              "    <tr>\n",
              "      <th>0</th>\n",
              "      <td>Mary</td>\n",
              "      <td>Ettienne</td>\n",
              "      <td>F</td>\n",
              "      <td>B</td>\n",
              "      <td>16</td>\n",
              "    </tr>\n",
              "    <tr>\n",
              "      <th>1</th>\n",
              "      <td>Charles</td>\n",
              "      <td>Looner</td>\n",
              "      <td>M</td>\n",
              "      <td>F</td>\n",
              "      <td>8</td>\n",
              "    </tr>\n",
              "    <tr>\n",
              "      <th>2</th>\n",
              "      <td>Betty</td>\n",
              "      <td>Franklin</td>\n",
              "      <td>F</td>\n",
              "      <td>A</td>\n",
              "      <td>24</td>\n",
              "    </tr>\n",
              "    <tr>\n",
              "      <th>3</th>\n",
              "      <td>Roger</td>\n",
              "      <td>Withers</td>\n",
              "      <td>M</td>\n",
              "      <td>C</td>\n",
              "      <td>5</td>\n",
              "    </tr>\n",
              "    <tr>\n",
              "      <th>4</th>\n",
              "      <td>John</td>\n",
              "      <td>Mulgrew</td>\n",
              "      <td>M</td>\n",
              "      <td>A</td>\n",
              "      <td>5</td>\n",
              "    </tr>\n",
              "  </tbody>\n",
              "</table>\n",
              "</div>\n",
              "      <button class=\"colab-df-convert\" onclick=\"convertToInteractive('df-e91fcdae-aac3-4aca-986c-7541c5b4e14a')\"\n",
              "              title=\"Convert this dataframe to an interactive table.\"\n",
              "              style=\"display:none;\">\n",
              "        \n",
              "  <svg xmlns=\"http://www.w3.org/2000/svg\" height=\"24px\"viewBox=\"0 0 24 24\"\n",
              "       width=\"24px\">\n",
              "    <path d=\"M0 0h24v24H0V0z\" fill=\"none\"/>\n",
              "    <path d=\"M18.56 5.44l.94 2.06.94-2.06 2.06-.94-2.06-.94-.94-2.06-.94 2.06-2.06.94zm-11 1L8.5 8.5l.94-2.06 2.06-.94-2.06-.94L8.5 2.5l-.94 2.06-2.06.94zm10 10l.94 2.06.94-2.06 2.06-.94-2.06-.94-.94-2.06-.94 2.06-2.06.94z\"/><path d=\"M17.41 7.96l-1.37-1.37c-.4-.4-.92-.59-1.43-.59-.52 0-1.04.2-1.43.59L10.3 9.45l-7.72 7.72c-.78.78-.78 2.05 0 2.83L4 21.41c.39.39.9.59 1.41.59.51 0 1.02-.2 1.41-.59l7.78-7.78 2.81-2.81c.8-.78.8-2.07 0-2.86zM5.41 20L4 18.59l7.72-7.72 1.47 1.35L5.41 20z\"/>\n",
              "  </svg>\n",
              "      </button>\n",
              "      \n",
              "  <style>\n",
              "    .colab-df-container {\n",
              "      display:flex;\n",
              "      flex-wrap:wrap;\n",
              "      gap: 12px;\n",
              "    }\n",
              "\n",
              "    .colab-df-convert {\n",
              "      background-color: #E8F0FE;\n",
              "      border: none;\n",
              "      border-radius: 50%;\n",
              "      cursor: pointer;\n",
              "      display: none;\n",
              "      fill: #1967D2;\n",
              "      height: 32px;\n",
              "      padding: 0 0 0 0;\n",
              "      width: 32px;\n",
              "    }\n",
              "\n",
              "    .colab-df-convert:hover {\n",
              "      background-color: #E2EBFA;\n",
              "      box-shadow: 0px 1px 2px rgba(60, 64, 67, 0.3), 0px 1px 3px 1px rgba(60, 64, 67, 0.15);\n",
              "      fill: #174EA6;\n",
              "    }\n",
              "\n",
              "    [theme=dark] .colab-df-convert {\n",
              "      background-color: #3B4455;\n",
              "      fill: #D2E3FC;\n",
              "    }\n",
              "\n",
              "    [theme=dark] .colab-df-convert:hover {\n",
              "      background-color: #434B5C;\n",
              "      box-shadow: 0px 1px 3px 1px rgba(0, 0, 0, 0.15);\n",
              "      filter: drop-shadow(0px 1px 2px rgba(0, 0, 0, 0.3));\n",
              "      fill: #FFFFFF;\n",
              "    }\n",
              "  </style>\n",
              "\n",
              "      <script>\n",
              "        const buttonEl =\n",
              "          document.querySelector('#df-e91fcdae-aac3-4aca-986c-7541c5b4e14a button.colab-df-convert');\n",
              "        buttonEl.style.display =\n",
              "          google.colab.kernel.accessAllowed ? 'block' : 'none';\n",
              "\n",
              "        async function convertToInteractive(key) {\n",
              "          const element = document.querySelector('#df-e91fcdae-aac3-4aca-986c-7541c5b4e14a');\n",
              "          const dataTable =\n",
              "            await google.colab.kernel.invokeFunction('convertToInteractive',\n",
              "                                                     [key], {});\n",
              "          if (!dataTable) return;\n",
              "\n",
              "          const docLinkHtml = 'Like what you see? Visit the ' +\n",
              "            '<a target=\"_blank\" href=https://colab.research.google.com/notebooks/data_table.ipynb>data table notebook</a>'\n",
              "            + ' to learn more about interactive tables.';\n",
              "          element.innerHTML = '';\n",
              "          dataTable['output_type'] = 'display_data';\n",
              "          await google.colab.output.renderOutput(dataTable, element);\n",
              "          const docLink = document.createElement('div');\n",
              "          docLink.innerHTML = docLinkHtml;\n",
              "          element.appendChild(docLink);\n",
              "        }\n",
              "      </script>\n",
              "    </div>\n",
              "  </div>\n",
              "  "
            ]
          },
          "metadata": {},
          "execution_count": 2
        }
      ]
    },
    {
      "cell_type": "markdown",
      "source": [
        "1. Percentage of students with a passing grade:"
      ],
      "metadata": {
        "id": "R2C-mArpxKeq"
      }
    },
    {
      "cell_type": "code",
      "source": [
        "#Check the grade symbols available in the dataset\n",
        "data['Grade'].unique()"
      ],
      "metadata": {
        "colab": {
          "base_uri": "https://localhost:8080/"
        },
        "id": "6td3bEAawiYP",
        "outputId": "da99cef8-76de-4754-b70a-9164cc1b3cf5"
      },
      "execution_count": 3,
      "outputs": [
        {
          "output_type": "execute_result",
          "data": {
            "text/plain": [
              "array(['B', 'F', 'A', 'C', 'D'], dtype=object)"
            ]
          },
          "metadata": {},
          "execution_count": 3
        }
      ]
    },
    {
      "cell_type": "code",
      "source": [
        "#First check if there are null values that can affect our calculations\n",
        "data.isnull().sum()\n",
        "\n",
        "#Claculating the percentage of those who passed\n",
        "passed=data[~((data['Grade']== 'F') | (data['Grade']=='D'))].shape[0]\n",
        "Total = data.shape[0]\n",
        "passed_percentage = (passed/Total) * 100\n",
        "print(f\"The percentage of student with a passing grade is {round(passed_percentage, 2)}%\")"
      ],
      "metadata": {
        "colab": {
          "base_uri": "https://localhost:8080/"
        },
        "id": "TvWvg6T_xeGN",
        "outputId": "cab2f730-c7dd-49fc-dbb1-92cd4c2e1db6"
      },
      "execution_count": 4,
      "outputs": [
        {
          "output_type": "stream",
          "name": "stdout",
          "text": [
            "The percentage of student with a passing grade is 69.17%\n"
          ]
        }
      ]
    },
    {
      "cell_type": "markdown",
      "source": [
        "2. Percentage of women with a passing grade:"
      ],
      "metadata": {
        "id": "yj5OpjOV5Gir"
      }
    },
    {
      "cell_type": "code",
      "source": [
        "#check if different versions of the same gender are used eg M, male or Male, etc\n",
        "data['Gender'].unique()"
      ],
      "metadata": {
        "colab": {
          "base_uri": "https://localhost:8080/"
        },
        "id": "BQDUV6tJzQTD",
        "outputId": "5dfad832-660e-48cb-ffcd-3e599fdd67e9"
      },
      "execution_count": 5,
      "outputs": [
        {
          "output_type": "execute_result",
          "data": {
            "text/plain": [
              "array(['F', 'M'], dtype=object)"
            ]
          },
          "metadata": {},
          "execution_count": 5
        }
      ]
    },
    {
      "cell_type": "code",
      "source": [
        "#Now everything is perfect, so we'll proceed to calculate the number of women  with a passing grade in the dataset\n",
        "iswoman = data['Gender'] == 'F'\n",
        "passed = ~((data['Grade']== 'F') | (data['Grade']=='D'))\n",
        "NumberOfwomen_Passed = data[ iswoman & passed].shape[0]\n",
        "Totalwomen= data[iswoman].shape[0]\n",
        "Passedwomen_Percentage = (NumberOfwomen_Passed/ Totalwomen) * 100\n",
        "print(f\"{round(Passedwomen_Percentage, 2)}% of the women have a passing grade.\")\n"
      ],
      "metadata": {
        "colab": {
          "base_uri": "https://localhost:8080/"
        },
        "id": "fEnHGxH_5raP",
        "outputId": "75b27306-58b8-4672-9b9f-f3edfa5c3ae8"
      },
      "execution_count": 6,
      "outputs": [
        {
          "output_type": "stream",
          "name": "stdout",
          "text": [
            "73.55% of the women have a passing grade.\n"
          ]
        }
      ]
    },
    {
      "cell_type": "markdown",
      "source": [
        "3. Average hours of study for all students:"
      ],
      "metadata": {
        "id": "doSSPix9IW5L"
      }
    },
    {
      "cell_type": "code",
      "source": [
        "AverageStudyHours= data['Hours of Study'].mean()\n",
        "print(f'Average hours of Study for all students is {round(AverageStudyHours, 2)}hrs')"
      ],
      "metadata": {
        "colab": {
          "base_uri": "https://localhost:8080/"
        },
        "id": "56wcWSjs7W0G",
        "outputId": "3a4c055a-0860-4227-921f-1a4cf468a971"
      },
      "execution_count": 7,
      "outputs": [
        {
          "output_type": "stream",
          "name": "stdout",
          "text": [
            "Average hours of Study for all students is 15.12hrs\n"
          ]
        }
      ]
    },
    {
      "cell_type": "markdown",
      "source": [
        "4. Average hours of study for students with a passing grade:"
      ],
      "metadata": {
        "id": "Bk5byDDCL8Nw"
      }
    },
    {
      "cell_type": "code",
      "source": [
        "PassingGradeAvgStudyHours = data[passed]['Hours of Study'].mean()\n",
        "print(f\"Average hours of study for students with a passing grade is {round(PassingGradeAvgStudyHours, 2)}hrs.\")"
      ],
      "metadata": {
        "colab": {
          "base_uri": "https://localhost:8080/"
        },
        "id": "Xag7mtQYFKqQ",
        "outputId": "5582c0a7-0e73-4f7d-9916-4118c99f31e2"
      },
      "execution_count": 8,
      "outputs": [
        {
          "output_type": "stream",
          "name": "stdout",
          "text": [
            "Average hours of study for students with a passing grade is 16.3hrs.\n"
          ]
        }
      ]
    },
    {
      "cell_type": "markdown",
      "source": [
        "#### Question 3: You can find the data in the datasets/axisdata file. Carlos Hugens is the sales manager for Axis Auto Sales, a low-cost regional chain of used car lots. Carlos is getting ready for his annual sales meeting and is looking for the best way to improve his sales group’s performance. His data includes the gender, years of experience, sales training, and hours worked per week for each team member. It also includes the average cars sold per month by each salesperson. Find out the following:\n",
        "1. Average cars sold per month\n",
        "2. Max cars sold per month\n",
        "3. Min cars sold per month\n",
        "4. Average cars sold per month by gender\n",
        "5. Average hours worked by people selling more than three cars per month\n",
        "6. Average years of experience\n",
        "7. Average years of experience for people selling more than three cars per month\n",
        "8. Average cars sold per month sorted by whether they have had sales training\n",
        "9. What do you think is the best indicator of whether someone is a good salesperson or not?"
      ],
      "metadata": {
        "id": "dnRv1zCpO05Q"
      }
    },
    {
      "cell_type": "code",
      "source": [
        "#Loading the dataset and checking if loading was successful\n",
        "url= 'https://raw.githubusercontent.com/Apress/learn-data-analysis-w-python/master/datasets/axisdata.csv'\n",
        "data = pd.read_csv(url)\n",
        "data.head()"
      ],
      "metadata": {
        "colab": {
          "base_uri": "https://localhost:8080/",
          "height": 206
        },
        "id": "_onVhyXIMBUc",
        "outputId": "b4d3ae84-28e6-439a-d8f4-4cd8319626a9"
      },
      "execution_count": 9,
      "outputs": [
        {
          "output_type": "execute_result",
          "data": {
            "text/plain": [
              "     Fname      Lname Gender  Hours Worked SalesTraining  Years Experience  \\\n",
              "0     Jada   Walters       F            39             N                 3   \n",
              "1   Nicole  Henderson      F            46             N                 3   \n",
              "2    Tanya      Moore      F            42             Y                 4   \n",
              "3  Ronelle    Jackson      F            38             Y                 5   \n",
              "4     Brad      Sears      M            33             N                 4   \n",
              "\n",
              "   Cars Sold  \n",
              "0          2  \n",
              "1          6  \n",
              "2          6  \n",
              "3          3  \n",
              "4          2  "
            ],
            "text/html": [
              "\n",
              "  <div id=\"df-9f33e6e9-79d8-44fa-aa97-df99e873b47a\">\n",
              "    <div class=\"colab-df-container\">\n",
              "      <div>\n",
              "<style scoped>\n",
              "    .dataframe tbody tr th:only-of-type {\n",
              "        vertical-align: middle;\n",
              "    }\n",
              "\n",
              "    .dataframe tbody tr th {\n",
              "        vertical-align: top;\n",
              "    }\n",
              "\n",
              "    .dataframe thead th {\n",
              "        text-align: right;\n",
              "    }\n",
              "</style>\n",
              "<table border=\"1\" class=\"dataframe\">\n",
              "  <thead>\n",
              "    <tr style=\"text-align: right;\">\n",
              "      <th></th>\n",
              "      <th>Fname</th>\n",
              "      <th>Lname</th>\n",
              "      <th>Gender</th>\n",
              "      <th>Hours Worked</th>\n",
              "      <th>SalesTraining</th>\n",
              "      <th>Years Experience</th>\n",
              "      <th>Cars Sold</th>\n",
              "    </tr>\n",
              "  </thead>\n",
              "  <tbody>\n",
              "    <tr>\n",
              "      <th>0</th>\n",
              "      <td>Jada</td>\n",
              "      <td>Walters</td>\n",
              "      <td>F</td>\n",
              "      <td>39</td>\n",
              "      <td>N</td>\n",
              "      <td>3</td>\n",
              "      <td>2</td>\n",
              "    </tr>\n",
              "    <tr>\n",
              "      <th>1</th>\n",
              "      <td>Nicole</td>\n",
              "      <td>Henderson</td>\n",
              "      <td>F</td>\n",
              "      <td>46</td>\n",
              "      <td>N</td>\n",
              "      <td>3</td>\n",
              "      <td>6</td>\n",
              "    </tr>\n",
              "    <tr>\n",
              "      <th>2</th>\n",
              "      <td>Tanya</td>\n",
              "      <td>Moore</td>\n",
              "      <td>F</td>\n",
              "      <td>42</td>\n",
              "      <td>Y</td>\n",
              "      <td>4</td>\n",
              "      <td>6</td>\n",
              "    </tr>\n",
              "    <tr>\n",
              "      <th>3</th>\n",
              "      <td>Ronelle</td>\n",
              "      <td>Jackson</td>\n",
              "      <td>F</td>\n",
              "      <td>38</td>\n",
              "      <td>Y</td>\n",
              "      <td>5</td>\n",
              "      <td>3</td>\n",
              "    </tr>\n",
              "    <tr>\n",
              "      <th>4</th>\n",
              "      <td>Brad</td>\n",
              "      <td>Sears</td>\n",
              "      <td>M</td>\n",
              "      <td>33</td>\n",
              "      <td>N</td>\n",
              "      <td>4</td>\n",
              "      <td>2</td>\n",
              "    </tr>\n",
              "  </tbody>\n",
              "</table>\n",
              "</div>\n",
              "      <button class=\"colab-df-convert\" onclick=\"convertToInteractive('df-9f33e6e9-79d8-44fa-aa97-df99e873b47a')\"\n",
              "              title=\"Convert this dataframe to an interactive table.\"\n",
              "              style=\"display:none;\">\n",
              "        \n",
              "  <svg xmlns=\"http://www.w3.org/2000/svg\" height=\"24px\"viewBox=\"0 0 24 24\"\n",
              "       width=\"24px\">\n",
              "    <path d=\"M0 0h24v24H0V0z\" fill=\"none\"/>\n",
              "    <path d=\"M18.56 5.44l.94 2.06.94-2.06 2.06-.94-2.06-.94-.94-2.06-.94 2.06-2.06.94zm-11 1L8.5 8.5l.94-2.06 2.06-.94-2.06-.94L8.5 2.5l-.94 2.06-2.06.94zm10 10l.94 2.06.94-2.06 2.06-.94-2.06-.94-.94-2.06-.94 2.06-2.06.94z\"/><path d=\"M17.41 7.96l-1.37-1.37c-.4-.4-.92-.59-1.43-.59-.52 0-1.04.2-1.43.59L10.3 9.45l-7.72 7.72c-.78.78-.78 2.05 0 2.83L4 21.41c.39.39.9.59 1.41.59.51 0 1.02-.2 1.41-.59l7.78-7.78 2.81-2.81c.8-.78.8-2.07 0-2.86zM5.41 20L4 18.59l7.72-7.72 1.47 1.35L5.41 20z\"/>\n",
              "  </svg>\n",
              "      </button>\n",
              "      \n",
              "  <style>\n",
              "    .colab-df-container {\n",
              "      display:flex;\n",
              "      flex-wrap:wrap;\n",
              "      gap: 12px;\n",
              "    }\n",
              "\n",
              "    .colab-df-convert {\n",
              "      background-color: #E8F0FE;\n",
              "      border: none;\n",
              "      border-radius: 50%;\n",
              "      cursor: pointer;\n",
              "      display: none;\n",
              "      fill: #1967D2;\n",
              "      height: 32px;\n",
              "      padding: 0 0 0 0;\n",
              "      width: 32px;\n",
              "    }\n",
              "\n",
              "    .colab-df-convert:hover {\n",
              "      background-color: #E2EBFA;\n",
              "      box-shadow: 0px 1px 2px rgba(60, 64, 67, 0.3), 0px 1px 3px 1px rgba(60, 64, 67, 0.15);\n",
              "      fill: #174EA6;\n",
              "    }\n",
              "\n",
              "    [theme=dark] .colab-df-convert {\n",
              "      background-color: #3B4455;\n",
              "      fill: #D2E3FC;\n",
              "    }\n",
              "\n",
              "    [theme=dark] .colab-df-convert:hover {\n",
              "      background-color: #434B5C;\n",
              "      box-shadow: 0px 1px 3px 1px rgba(0, 0, 0, 0.15);\n",
              "      filter: drop-shadow(0px 1px 2px rgba(0, 0, 0, 0.3));\n",
              "      fill: #FFFFFF;\n",
              "    }\n",
              "  </style>\n",
              "\n",
              "      <script>\n",
              "        const buttonEl =\n",
              "          document.querySelector('#df-9f33e6e9-79d8-44fa-aa97-df99e873b47a button.colab-df-convert');\n",
              "        buttonEl.style.display =\n",
              "          google.colab.kernel.accessAllowed ? 'block' : 'none';\n",
              "\n",
              "        async function convertToInteractive(key) {\n",
              "          const element = document.querySelector('#df-9f33e6e9-79d8-44fa-aa97-df99e873b47a');\n",
              "          const dataTable =\n",
              "            await google.colab.kernel.invokeFunction('convertToInteractive',\n",
              "                                                     [key], {});\n",
              "          if (!dataTable) return;\n",
              "\n",
              "          const docLinkHtml = 'Like what you see? Visit the ' +\n",
              "            '<a target=\"_blank\" href=https://colab.research.google.com/notebooks/data_table.ipynb>data table notebook</a>'\n",
              "            + ' to learn more about interactive tables.';\n",
              "          element.innerHTML = '';\n",
              "          dataTable['output_type'] = 'display_data';\n",
              "          await google.colab.output.renderOutput(dataTable, element);\n",
              "          const docLink = document.createElement('div');\n",
              "          docLink.innerHTML = docLinkHtml;\n",
              "          element.appendChild(docLink);\n",
              "        }\n",
              "      </script>\n",
              "    </div>\n",
              "  </div>\n",
              "  "
            ]
          },
          "metadata": {},
          "execution_count": 9
        }
      ]
    },
    {
      "cell_type": "markdown",
      "source": [
        "1. Average cars sold per month:"
      ],
      "metadata": {
        "id": "KPVkAmeDRDTV"
      }
    },
    {
      "cell_type": "code",
      "source": [
        "#Add new column(Fullname)\n",
        "Fullname = data['Fname'] + \" \" + data['Lname']\n",
        "data['Fullname'] = Fullname\n",
        "NumberOfSalesReps = len(data['Fullname'].unique())\n",
        "\n",
        "AverageCarsSoldPerMonth= data['Cars Sold'].sum()/NumberOfSalesReps\n",
        "print(f\"The average number of cars sold per month is {round(AverageCarsSoldPerMonth)}\")"
      ],
      "metadata": {
        "colab": {
          "base_uri": "https://localhost:8080/"
        },
        "id": "tmpykbIsR9DN",
        "outputId": "010acb86-a0ae-430e-868d-19dfb87b0577"
      },
      "execution_count": 10,
      "outputs": [
        {
          "output_type": "stream",
          "name": "stdout",
          "text": [
            "The average number of cars sold per month is 6\n"
          ]
        }
      ]
    },
    {
      "cell_type": "markdown",
      "source": [
        "2. Max cars sold per month"
      ],
      "metadata": {
        "id": "Rw6ljo4lUSOs"
      }
    },
    {
      "cell_type": "code",
      "source": [
        "MaxCarsSoldPerMonth = data['Cars Sold'].max()\n",
        "print(f\"The maximum number of cars sold per month is {MaxCarsSoldPerMonth}\")"
      ],
      "metadata": {
        "colab": {
          "base_uri": "https://localhost:8080/"
        },
        "id": "5sRUYVMWUVHZ",
        "outputId": "6f032bc2-df6f-4c31-d667-862d5a2d3f2f"
      },
      "execution_count": 11,
      "outputs": [
        {
          "output_type": "stream",
          "name": "stdout",
          "text": [
            "The maximum number of cars sold per month is 7\n"
          ]
        }
      ]
    },
    {
      "cell_type": "markdown",
      "source": [
        "3. Min cars sold per month"
      ],
      "metadata": {
        "id": "2B2On-VAbnA5"
      }
    },
    {
      "cell_type": "code",
      "source": [
        "MinCarsSoldPerMonth = data['Cars Sold'].min()\n",
        "print(f\"The minimum number of cars sold per month is {MinCarsSoldPerMonth}\")"
      ],
      "metadata": {
        "colab": {
          "base_uri": "https://localhost:8080/"
        },
        "id": "-RG4xW9HUauN",
        "outputId": "067134d7-8fc4-4195-a3e2-68d400439fa4"
      },
      "execution_count": 12,
      "outputs": [
        {
          "output_type": "stream",
          "name": "stdout",
          "text": [
            "The minimum number of cars sold per month is 1\n"
          ]
        }
      ]
    },
    {
      "cell_type": "markdown",
      "source": [
        "4. Average cars sold per month by gender"
      ],
      "metadata": {
        "id": "qzTGBk7EbqH7"
      }
    },
    {
      "cell_type": "code",
      "source": [
        "isMale = data['Gender'] == 'M'\n",
        "isFemale = data['Gender'] == 'F'\n",
        "Females = data[isFemale]\n",
        "Males = data[isMale]\n",
        "MaleAvg = Males['Cars Sold'].sum()/len(Males['Fullname'].unique())\n",
        "FemaleAvg = Females['Cars Sold'].sum()/len(Females['Fullname'].unique())\n",
        "print(f\"Average number of cars sold per month by Males is {round(MaleAvg)}, while the average number of cars cars sold by Females is {round(FemaleAvg)}\")"
      ],
      "metadata": {
        "colab": {
          "base_uri": "https://localhost:8080/"
        },
        "id": "ikj8YKQIcR5L",
        "outputId": "befb650e-690f-42c4-de6a-31a5cb34f9e1"
      },
      "execution_count": 13,
      "outputs": [
        {
          "output_type": "stream",
          "name": "stdout",
          "text": [
            "Average number of cars sold per month by Males is 6, while the average number of cars cars sold by Females is 6\n"
          ]
        }
      ]
    },
    {
      "cell_type": "markdown",
      "source": [
        "5. Average hours worked by people selling more than three cars per month"
      ],
      "metadata": {
        "id": "UUTumdVybuPo"
      }
    },
    {
      "cell_type": "code",
      "source": [
        "SoldMoreThanThree = data['Cars Sold'] > 3\n",
        "MoreThanThreeData = data[SoldMoreThanThree]\n",
        "AvgHrsWorkedPerMonth = (MoreThanThreeData['Hours Worked'].sum() * 52)/ 12\n",
        "print(f\"The Average hours worked by people selling more than three cars per month is {round(AvgHrsWorkedPerMonth,2)}hrs\")"
      ],
      "metadata": {
        "colab": {
          "base_uri": "https://localhost:8080/"
        },
        "id": "KOtjXDnpkFP9",
        "outputId": "b957c099-aaee-413f-fa05-e1a41ce4e0cb"
      },
      "execution_count": 14,
      "outputs": [
        {
          "output_type": "stream",
          "name": "stdout",
          "text": [
            "The Average hours worked by people selling more than three cars per month is 88668.67hrs\n"
          ]
        }
      ]
    },
    {
      "cell_type": "markdown",
      "source": [
        "6. Average years of experience"
      ],
      "metadata": {
        "id": "mTT4W1swbyJc"
      }
    },
    {
      "cell_type": "code",
      "source": [
        "AverageYearsOfExp = data['Years Experience'].mean()\n",
        "print(f\"The Average years of experience is approximately {round(AverageYearsOfExp)} years.\")"
      ],
      "metadata": {
        "colab": {
          "base_uri": "https://localhost:8080/"
        },
        "id": "dXJrTKUetqXH",
        "outputId": "a6269261-b6b7-4f09-d9f6-84c173d1416c"
      },
      "execution_count": 15,
      "outputs": [
        {
          "output_type": "stream",
          "name": "stdout",
          "text": [
            "The Average years of experience is approximately 3 years.\n"
          ]
        }
      ]
    },
    {
      "cell_type": "markdown",
      "source": [
        "7. Average years of experience for people selling more than three cars per month"
      ],
      "metadata": {
        "id": "zFyMwSA0b1u7"
      }
    },
    {
      "cell_type": "code",
      "source": [
        "\n",
        "AvgYearsOfExp = MoreThanThreeData['Years Experience'].mean()\n",
        "print(f\"The Average years of experience is approximately {round(AvgYearsOfExp)} years.\")"
      ],
      "metadata": {
        "colab": {
          "base_uri": "https://localhost:8080/"
        },
        "id": "SzpIXAj-uUko",
        "outputId": "94f714b6-2aae-492b-b623-5624c192e777"
      },
      "execution_count": 16,
      "outputs": [
        {
          "output_type": "stream",
          "name": "stdout",
          "text": [
            "The Average years of experience is approximately 3 years.\n"
          ]
        }
      ]
    },
    {
      "cell_type": "markdown",
      "source": [
        "8. Average cars sold per month sorted by whether they have had sales training"
      ],
      "metadata": {
        "id": "2tHUVcm5b7Dw"
      }
    },
    {
      "cell_type": "code",
      "source": [
        "# For those with Training..\n",
        "WithTraining = data['SalesTraining'] == 'Y'\n",
        "AvgWithTraining = data[WithTraining]\n",
        "\n",
        "AvgCarsSoldPerMonth= AvgWithTraining['Cars Sold'].sum()/NumberOfSalesReps\n",
        "print(f\"Average number of cars sold per month by those who had sales Training is  {round(AvgCarsSoldPerMonth)}\")\n",
        "\n",
        "WithoutTraining = data['SalesTraining'] == 'Y'\n",
        "AvgWithoutTraining = data[WithoutTraining]\n",
        "\n",
        "AvgCarsSoldPerMonth_Without= AvgWithoutTraining['Cars Sold'].sum()/NumberOfSalesReps\n",
        "print(f\"Average number of cars sold per month by those who does not have sales Training is  {round(AvgCarsSoldPerMonth_Without)}\")"
      ],
      "metadata": {
        "colab": {
          "base_uri": "https://localhost:8080/"
        },
        "id": "U_QCYZjzvEgp",
        "outputId": "0635e2f8-f993-46ad-b6cf-9858688d62ec"
      },
      "execution_count": 22,
      "outputs": [
        {
          "output_type": "stream",
          "name": "stdout",
          "text": [
            "Average number of cars sold per month by those who had sales Training is  4\n",
            "Average number of cars sold per month by those who does not have sales Training is  4\n"
          ]
        }
      ]
    },
    {
      "cell_type": "markdown",
      "source": [
        "9. What do you think is the best indicator of whether someone is a good salesperson or not?"
      ],
      "metadata": {
        "id": "_2YEs2yYcBTk"
      }
    },
    {
      "cell_type": "code",
      "source": [
        "#Try correlation plot\n",
        "CorrMatrix = data.corr()\n",
        "sns.heatmap(CorrMatrix, annot=True)"
      ],
      "metadata": {
        "id": "VRK1OLWvvpUW",
        "colab": {
          "base_uri": "https://localhost:8080/",
          "height": 286
        },
        "outputId": "7f4c759f-8f83-4b25-e6da-6026d6a9cebb"
      },
      "execution_count": 27,
      "outputs": [
        {
          "output_type": "execute_result",
          "data": {
            "text/plain": [
              "<matplotlib.axes._subplots.AxesSubplot at 0x7fecc58d3850>"
            ]
          },
          "metadata": {},
          "execution_count": 27
        },
        {
          "output_type": "display_data",
          "data": {
            "text/plain": [
              "<Figure size 432x288 with 2 Axes>"
            ],
            "image/png": "[encoded data removed]"
          },
          "metadata": {
            "needs_background": "light"
          }
        }
      ]
    },
    {
      "cell_type": "markdown",
      "source": [
        "From the above correlation plot, it is apparent that \"Cars Sold\" variable is positively correlated with the \"Hours Worked\" variable with a correlation coefficient of 0.25. Although the correlation is not strong enough, according to the dataset, the \"Hours Worked\" variable is the best indicator for someone being a good salesperson or not."
      ],
      "metadata": {
        "id": "9pEVkvr0siF8"
      }
    }
  ]
}